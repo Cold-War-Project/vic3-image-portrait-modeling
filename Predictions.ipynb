{
 "cells": [
  {
   "cell_type": "code",
   "execution_count": 1,
   "metadata": {},
   "outputs": [
    {
     "name": "stderr",
     "output_type": "stream",
     "text": [
      "c:\\Users\\hakim\\.Deeplearning\\lib\\site-packages\\tqdm\\auto.py:22: TqdmWarning: IProgress not found. Please update jupyter and ipywidgets. See https://ipywidgets.readthedocs.io/en/stable/user_install.html\n",
      "  from .autonotebook import tqdm as notebook_tqdm\n"
     ]
    }
   ],
   "source": [
    "import torch\n",
    "import utils.model as model\n",
    "from torchsummary import summary"
   ]
  },
  {
   "cell_type": "code",
   "execution_count": 2,
   "metadata": {},
   "outputs": [],
   "source": [
    "net = model.Regressor().to('cuda')"
   ]
  },
  {
   "cell_type": "code",
   "execution_count": 3,
   "metadata": {},
   "outputs": [
    {
     "name": "stdout",
     "output_type": "stream",
     "text": [
      "----------------------------------------------------------------\n",
      "        Layer (type)               Output Shape         Param #\n",
      "================================================================\n",
      "            Linear-1              [-1, 0, 2622]       6,877,506\n",
      "       BatchNorm1d-2              [-1, 0, 2622]           5,244\n",
      "               ELU-3              [-1, 0, 2622]               0\n",
      "            Linear-4              [-1, 0, 1000]       2,623,000\n",
      "       BatchNorm1d-5              [-1, 0, 1000]           5,244\n",
      "            Linear-6              [-1, 0, 1000]       1,001,000\n",
      "               ELU-7              [-1, 0, 1000]               0\n",
      "            Linear-8              [-1, 0, 1000]       1,001,000\n",
      "           Sigmoid-9              [-1, 0, 1000]               0\n",
      "              ELU-10              [-1, 0, 1000]               0\n",
      "        res_block-11              [-1, 0, 1000]               0\n",
      "           Linear-12              [-1, 0, 1000]       1,001,000\n",
      "      BatchNorm1d-13              [-1, 0, 1000]           2,000\n",
      "              ELU-14              [-1, 0, 1000]               0\n",
      "           Linear-15               [-1, 0, 500]         500,500\n",
      "      BatchNorm1d-16               [-1, 0, 500]           2,000\n",
      "           Linear-17               [-1, 0, 500]         250,500\n",
      "              ELU-18               [-1, 0, 500]               0\n",
      "           Linear-19               [-1, 0, 500]         250,500\n",
      "          Sigmoid-20               [-1, 0, 500]               0\n",
      "              ELU-21               [-1, 0, 500]               0\n",
      "        res_block-22               [-1, 0, 500]               0\n",
      "           Linear-23               [-1, 0, 500]         250,500\n",
      "      BatchNorm1d-24               [-1, 0, 500]           1,000\n",
      "              ELU-25               [-1, 0, 500]               0\n",
      "           Linear-26               [-1, 0, 250]         125,250\n",
      "      BatchNorm1d-27               [-1, 0, 250]           1,000\n",
      "           Linear-28               [-1, 0, 250]          62,750\n",
      "              ELU-29               [-1, 0, 250]               0\n",
      "           Linear-30               [-1, 0, 250]          62,750\n",
      "          Sigmoid-31               [-1, 0, 250]               0\n",
      "              ELU-32               [-1, 0, 250]               0\n",
      "        res_block-33               [-1, 0, 250]               0\n",
      "           Linear-34               [-1, 0, 220]          55,220\n",
      "          Sigmoid-35               [-1, 0, 220]               0\n",
      "================================================================\n",
      "Total params: 14,077,964\n",
      "Trainable params: 14,077,964\n",
      "Non-trainable params: 0\n",
      "----------------------------------------------------------------\n",
      "Input size (MB): 0.00\n",
      "Forward/backward pass size (MB): 0.00\n",
      "Params size (MB): 53.70\n",
      "Estimated Total Size (MB): 53.70\n",
      "----------------------------------------------------------------\n"
     ]
    }
   ],
   "source": [
    "summary(net, (0, 2622))"
   ]
  }
 ],
 "metadata": {
  "interpreter": {
   "hash": "1596998366379c828b844cdf503cd102a74185cb9cc58a80a39dab5431602623"
  },
  "kernelspec": {
   "display_name": "Deeplearning",
   "language": "python",
   "name": "python3"
  },
  "language_info": {
   "codemirror_mode": {
    "name": "ipython",
    "version": 3
   },
   "file_extension": ".py",
   "mimetype": "text/x-python",
   "name": "python",
   "nbconvert_exporter": "python",
   "pygments_lexer": "ipython3",
   "version": "3.9.6"
  },
  "orig_nbformat": 4
 },
 "nbformat": 4,
 "nbformat_minor": 2
}
