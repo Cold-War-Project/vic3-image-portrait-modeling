{
 "cells": [
  {
   "cell_type": "code",
   "execution_count": null,
   "metadata": {},
   "outputs": [],
   "source": [
    "from pytorch_lightning import Trainer, LightningDataModule, LightningModule\n",
    "\n",
    "from torch.utils.data import random_split, DataLoader, Dataset\n",
    "from torchvision import datasets\n",
    "import torch.nn.functional as F\n",
    "import torch"
   ]
  },
  {
   "cell_type": "code",
   "execution_count": null,
   "metadata": {},
   "outputs": [],
   "source": [
    "class dataset(Dataset):\n",
    "    def __init__(self, dataset_path):\n",
    "        self.images = datasets.DatasetFolder(root= f'{dataset_path}/portraits/', loader = torch.load()) \n",
    "        self.dnas = torch.load(f'{dataset_path}/tensors/dnas.pt')\n",
    "        self.n_samples = len(self.images) \n",
    "\n",
    "    def __getitem__(self, index):\n",
    "        image, i = self.images[index]\n",
    "        return image, self.dnas[i]\n",
    "\n",
    "    def __len__(self):\n",
    "        return self.n_samples"
   ]
  },
  {
   "cell_type": "code",
   "execution_count": null,
   "metadata": {},
   "outputs": [],
   "source": [
    "class Net(LightningModule):\n",
    "\n",
    "    def __init__(self, model):\n",
    "        super(Net, self).__init__()\n",
    "        self.model = model\n",
    "\n",
    "        self.epochs = None\n",
    "        self.learning_rate = None\n",
    "        self.weight_decay = None\n",
    "\n",
    "    def get_parameters(self, hyperparameters):\n",
    "        self.epochs = hyperparameters['epochs']\n",
    "        self.learning_rate = hyperparameters['lr']\n",
    "        self.weight_decay = hyperparameters['weight decay']\n",
    "        \n",
    "\n",
    "\n",
    "\n",
    "    def mse(self, x, y):\n",
    "        return  F.mse_loss(x, y)\n",
    "\n",
    "\n",
    "    def training_step(self, batch, batch_idx):\n",
    "        images, dnas = batch\n",
    "        \n",
    "        predictions = self.model(images)\n",
    "\n",
    "        loss = self.mse(predictions, dnas)       \n",
    "        return {'loss': loss}\n",
    "\n",
    "    def training_epoch_end(self, outputs):\n",
    "        avg_loss = torch.stack([x['loss'] for x in outputs]).mean()\n",
    "        self.log('train loss', avg_loss, prog_bar=True)\n",
    "\n",
    "    def validation_step(self, batch, batch_idx):\n",
    "        images, dnas = batch\n",
    "\n",
    "\n",
    "        predictions = self.model(images)\n",
    "\n",
    "        loss = self.mse(predictions, dnas)       \n",
    "        return {'loss': loss}\n",
    "\n",
    "    def validation_epoch_end(self, outputs):\n",
    "        avg_loss = torch.stack([x['loss'] for x in outputs]).mean()\n",
    "        self.log('val loss', avg_loss, prog_bar=True)\n",
    "\n",
    "   \n",
    "    def configure_optimizers(self):\n",
    "        optimizer = torch.optim.RMSprop(self.model.parameters(), lr = self.learning_rate, weight_decay = self.weight_decay)\n",
    "        return optimizer       \n"
   ]
  },
  {
   "cell_type": "code",
   "execution_count": null,
   "metadata": {},
   "outputs": [],
   "source": [
    "class datamodule(LightningDataModule):\n",
    "    def __init__(self, opts):\n",
    "        super(datamodule, self).__init__()\n",
    "        self.val_ratio = opts.val_ratio\n",
    "        self.batch_size = opts.batch_size\n",
    "        self.num_workers = opts.workers\n",
    "        self.dataset_path = opts.dataset\n",
    "\n",
    "\n",
    "    def setup(self, stage=None):\n",
    "        data = dataset(self.dataset_path)\n",
    "        valid_idx = int(len(data)*self.val_ratio)\n",
    "        train_idx = len(data)-valid_idx\n",
    "\n",
    "        self.train_data, self.val_data = random_split(data, [train_idx, valid_idx])\n",
    "        \n",
    "\n",
    "    def train_dataloader(self):\n",
    "        return DataLoader(self.train_data, batch_size = self.batch_size, shuffle = True, num_workers=self.num_workers)\n",
    "\n",
    "    def val_dataloader(self):\n",
    "        return DataLoader(self.val_data, batch_size = self.batch_size, num_workers=self.num_workers)\n",
    "    "
   ]
  },
  {
   "cell_type": "code",
   "execution_count": null,
   "metadata": {},
   "outputs": [],
   "source": [
    "class experiment():\n",
    "    def __init__(self, model, opts):\n",
    "        self.parameters = { 'batch size': opts.batch_size,\n",
    "                            'epochs': opts.epochs,\n",
    "                            'lr': opts.lr,\n",
    "                            'weight decay': 0.01,\n",
    "                        }\n",
    "\n",
    "        self.model = Net(model)\n",
    "        self.datamodule = datamodule(opts)\n",
    "        \n",
    "        self.model.get_parameters(self.parameters)\n",
    "        \n",
    "        self.trainer = Trainer(gpus=opts.gpus, max_epochs=opts.epochs, check_val_every_n_epoch=opts.val_epochs)\n",
    "\n",
    "    def fit(self):\n",
    "        self.trainer.fit(self.model, self.datamodule)"
   ]
  }
 ],
 "metadata": {
  "interpreter": {
   "hash": "a3764991732e98e645f7f17f0186a4fd60950ed3b9b95d658238a223d60feeaa"
  },
  "kernelspec": {
   "display_name": "Deeplearning",
   "language": "python",
   "name": "python3"
  },
  "language_info": {
   "codemirror_mode": {
    "name": "ipython",
    "version": 3
   },
   "file_extension": ".py",
   "mimetype": "text/x-python",
   "name": "python",
   "nbconvert_exporter": "python",
   "pygments_lexer": "ipython3",
   "version": "3.9.6"
  }
 },
 "nbformat": 4,
 "nbformat_minor": 2
}
