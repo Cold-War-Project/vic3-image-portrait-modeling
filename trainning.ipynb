{
 "cells": [
  {
   "cell_type": "code",
   "execution_count": 1,
   "metadata": {},
   "outputs": [],
   "source": [
    "import torch\n",
    "\n",
    "import torch.nn.functional as F\n",
    "import pytorch_lightning as pl\n",
    "from pytorch_lightning import Trainer\n",
    "from torch.utils.data import random_split, DataLoader, Dataset\n",
    "\n",
    "\n",
    "import utils.resnet as resnet \n"
   ]
  },
  {
   "cell_type": "code",
   "execution_count": 2,
   "metadata": {},
   "outputs": [],
   "source": [
    "hyperparameters = { 'batch size': 14,\n",
    "                    'val ratio': 0.1,\n",
    "                    'epochs': 25,\n",
    "                    'lr': 0.0000095,\n",
    "                    'lr decay': 0.25,\n",
    "                    'lr decay threshold': 0.05,\n",
    "                    'lr warming up period': 50,\n",
    "                    'weight decay': 0.01,\n",
    "                    'dataset path': './dataset'}"
   ]
  },
  {
   "cell_type": "code",
   "execution_count": 3,
   "metadata": {},
   "outputs": [],
   "source": [
    "class dataset(Dataset):\n",
    "    def __init__(self, dataset_path):\n",
    "        self.images = torch.load(f'{dataset_path}/dataset_images')\n",
    "        self.dnas = torch.load(f'{dataset_path}/dataset_dna')\n",
    "        self.n_samples = len(self.images) \n",
    "\n",
    "    def __getitem__(self, index):\n",
    "        image, i = self.images[index]\n",
    "        return image, self.dnas[i]\n",
    "\n",
    "    def __len__(self):\n",
    "        return self.n_samples"
   ]
  },
  {
   "cell_type": "code",
   "execution_count": 4,
   "metadata": {},
   "outputs": [],
   "source": [
    "class Net(pl.LightningModule):\n",
    "\n",
    "    def __init__(self, model):\n",
    "        super(Net, self).__init__()\n",
    "        self.model = model\n",
    "\n",
    "        self.learning_rate = hyperparameters['lr']\n",
    "        self.weight_decay = hyperparameters['weight decay']\n",
    "\n",
    "\n",
    "\n",
    "    def mse(self, x, y):\n",
    "        return  F.mse_loss(x, y)\n",
    "\n",
    "\n",
    "    def training_step(self, batch, batch_idx):\n",
    "        images, dnas = batch\n",
    "        \n",
    "        self. model = model.train()\n",
    "        predictions = self.model(images)\n",
    "\n",
    "        loss = self.mse(predictions, dnas)       \n",
    "        return {'loss': loss}\n",
    "\n",
    "    def training_epoch_end(self, outputs):\n",
    "        avg_loss = torch.stack([x['loss'] for x in outputs]).mean()\n",
    "        self.log('train loss', avg_loss, prog_bar=True)\n",
    "\n",
    "    def validation_step(self, batch, batch_idx):\n",
    "        images, dnas = batch\n",
    "\n",
    "\n",
    "        predictions = self.model(images)\n",
    "\n",
    "        loss = self.mse(predictions, dnas)       \n",
    "        return {'loss': loss}\n",
    "\n",
    "    def validation_epoch_end(self, outputs):\n",
    "        avg_loss = torch.stack([x['loss'] for x in outputs]).mean()\n",
    "        self.log('val loss', avg_loss, prog_bar=True)\n",
    "\n",
    "   \n",
    "    def configure_optimizers(self):\n",
    "        optimizer = torch.optim.RMSprop(self.model.parameters(), lr = self.learning_rate, weight_decay = self.weight_decay)\n",
    "        return optimizer       \n",
    "\n",
    "                                                   "
   ]
  },
  {
   "cell_type": "code",
   "execution_count": 5,
   "metadata": {},
   "outputs": [],
   "source": [
    "class Dataset(pl.LightningDataModule):\n",
    "    def __init__(self, batch_size, val_ratio, dataset_path):\n",
    "        self.val_ratio = val_ratio\n",
    "        self.batch_size = batch_size\n",
    "        self.dataset_path = dataset_path\n",
    "\n",
    "    def setup(self, stage=None):\n",
    "        data = dataset(self.dataset_path)\n",
    "        valid_idx = int(len(data)*self.val_ratio)\n",
    "        train_idx = len(data)-valid_idx\n",
    "\n",
    "        self.train_data, self.val_data = random_split(data, [train_idx, valid_idx])\n",
    "        \n",
    "\n",
    "    def train_dataloader(self):\n",
    "        return DataLoader(self.train_data, batch_size=self.batch_size)\n",
    "\n",
    "    def val_dataloader(self):\n",
    "        return DataLoader(self.val_data)\n",
    "    "
   ]
  },
  {
   "cell_type": "code",
   "execution_count": 6,
   "metadata": {},
   "outputs": [
    {
     "name": "stderr",
     "output_type": "stream",
     "text": [
      "c:\\Users\\hakim\\Documents\\Python\\CK3\\Simple Regressor\\utils\\resnet.py:6: UserWarning: nn.init.xavier_uniform is now deprecated in favor of nn.init.xavier_uniform_.\n",
      "  torch.nn.init.xavier_uniform(layer)\n",
      "GPU available: True, used: True\n",
      "TPU available: False, using: 0 TPU cores\n",
      "IPU available: False, using: 0 IPUs\n"
     ]
    }
   ],
   "source": [
    "data = Dataset(hyperparameters['batch size'], hyperparameters['val ratio'], hyperparameters['dataset path'])\n",
    "\n",
    "\n",
    "model = Net(resnet.ResNet50(img_channel=3, num_features=101))\n",
    "trainer = Trainer(gpus=1, max_epochs=hyperparameters['epochs'], overfit_batches=1, limit_val_batches=1, val_check_interval=5)"
   ]
  },
  {
   "cell_type": "code",
   "execution_count": 7,
   "metadata": {},
   "outputs": [
    {
     "name": "stderr",
     "output_type": "stream",
     "text": [
      "LOCAL_RANK: 0 - CUDA_VISIBLE_DEVICES: [0]\n",
      "\n",
      "  | Name  | Type   | Params\n",
      "---------------------------------\n",
      "0 | model | ResNet | 23.7 M\n",
      "---------------------------------\n",
      "23.7 M    Trainable params\n",
      "0         Non-trainable params\n",
      "23.7 M    Total params\n",
      "94.860    Total estimated model params size (MB)\n"
     ]
    },
    {
     "name": "stdout",
     "output_type": "stream",
     "text": [
      "Validation sanity check: 0it [00:00, ?it/s]"
     ]
    }
   ],
   "source": [
    "trainer.fit(model, data)"
   ]
  }
 ],
 "metadata": {
  "interpreter": {
   "hash": "1596998366379c828b844cdf503cd102a74185cb9cc58a80a39dab5431602623"
  },
  "kernelspec": {
   "display_name": "Deeplearning",
   "language": "python",
   "name": "deeplearning"
  },
  "language_info": {
   "codemirror_mode": {
    "name": "ipython",
    "version": 3
   },
   "file_extension": ".py",
   "mimetype": "text/x-python",
   "name": "python",
   "nbconvert_exporter": "python",
   "pygments_lexer": "ipython3",
   "version": "3.9.7"
  }
 },
 "nbformat": 4,
 "nbformat_minor": 2
}
